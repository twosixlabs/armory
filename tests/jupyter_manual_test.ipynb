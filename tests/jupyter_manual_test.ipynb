{
 "cells": [
  {
   "cell_type": "markdown",
   "metadata": {},
   "source": [
    "\n",
    "<br>\n",
    "Tests in this file are meant to be run manually inside of a jupyter notebook, e.g.:<br>\n",
    "    armory launch pytorch --jupyter<br>\n"
   ]
  },
  {
   "cell_type": "code",
   "execution_count": null,
   "metadata": {},
   "outputs": [],
   "source": [
    "# NOTE: after running tests, DO NOT COMMIT outputs\n",
    "import os\n",
    "import IPython"
   ]
  },
  {
   "cell_type": "code",
   "execution_count": null,
   "metadata": {},
   "outputs": [],
   "source": [
    "# test data is from public domain\n",
    "TEST_DATA_DIR = os.getcwd() + \"/test_data\"\n",
    "\n",
    "\n",
    "def data_file(s):\n",
    "    return os.path.join(TEST_DATA_DIR, s)"
   ]
  },
  {
   "cell_type": "code",
   "execution_count": null,
   "metadata": {},
   "outputs": [],
   "source": [
    "filepath = data_file(\"image_sample.png\")\n",
    "\n",
    "IPython.display.Image(filepath)"
   ]
  },
  {
   "cell_type": "code",
   "execution_count": null,
   "metadata": {},
   "outputs": [],
   "source": [
    "filepath = data_file(\"audio_sample.mp3\")\n",
    "IPython.display.Audio(filepath)"
   ]
  },
  {
   "cell_type": "code",
   "execution_count": null,
   "metadata": {},
   "outputs": [],
   "source": [
    "filepath = data_file(\"video_sample.mp4\")\n",
    "IPython.display.Video(filepath)\n",
    "# If the screen is blank, may need to embed video (uncomment the following):\n",
    "# IPython.display.Video(filepath, embed=True)"
   ]
  },
  {
   "cell_type": "code",
   "execution_count": null,
   "metadata": {},
   "outputs": [],
   "source": [
    "from tqdm.notebook import trange, tqdm\n",
    "from time import sleep\n",
    "\n",
    "for i in trange(3, desc=\"1st loop\"):\n",
    "    for j in tqdm(range(100), desc=\"2nd loop\"):\n",
    "        sleep(0.01)"
   ]
  },
  {
   "cell_type": "code",
   "execution_count": null,
   "metadata": {},
   "outputs": [],
   "source": [
    "from matplotlib import pyplot as plt\n",
    "\n",
    "plt.plot([5, 2, 9, 4, 7], [10, 5, 8, 4, 2])\n",
    "plt.show()"
   ]
  }
 ],
 "metadata": {
  "kernelspec": {
   "display_name": "Python 3",
   "language": "python",
   "name": "python3"
  },
  "language_info": {
   "codemirror_mode": {
    "name": "ipython",
    "version": 3
   },
   "file_extension": ".py",
   "mimetype": "text/x-python",
   "name": "python",
   "nbconvert_exporter": "python",
   "pygments_lexer": "ipython3",
   "version": "3.8.10"
  }
 },
 "nbformat": 4,
 "nbformat_minor": 4
}

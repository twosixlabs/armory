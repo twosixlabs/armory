{
 "cells": [
  {
   "cell_type": "markdown",
   "id": "24176b4a-e486-400f-8981-7caaf7680f3f",
   "metadata": {
    "id": "24176b4a-e486-400f-8981-7caaf7680f3f"
   },
   "source": [
    "# Running Armory Scenarios Interactively [![Open In Colab](https://colab.research.google.com/assets/colab-badge.svg)](https://colab.research.google.com/github/twosixlabs/armory/blob/master/notebooks/running_armory_scenarios_interactively.ipynb)\n",
    "\n",
    "In this tutorial, we'll demonstrate how to run Armory scenarios interactively, export and visualize data examples, and more. We'll use the CARLA object detection scenario as an example, although what follows is instructive for using Armory in general.\n",
    "\n",
    "If executing `armory` locally, e.g. `armory run <CONFIG>`, the `--interactive` or `--jupyter` flags can be used to launch scenarios interactively. After doing so, you will receive instructions logged to console on how to attach to the newly launched Docker container. If using the `--jupyter` flag, you'll also receive a URL to open the Jupyter notebook. You can follow along with this tutorial by running the following command:\n",
    "\n",
    "`armory run scenario_configs/eval5/carla_object_detection/carla_obj_det_dpatch_undefended.json --jupyter`\n",
    "\n",
    "If you are executing `armory` in a remote jupyter environment- such as Google Colab- be sure to execute the following cell."
   ]
  },
  {
   "cell_type": "code",
   "execution_count": null,
   "id": "RcnXScwrEph0",
   "metadata": {
    "id": "RcnXScwrEph0"
   },
   "outputs": [],
   "source": [
    "%%bash\n",
    "# Execute this cell if you are running this notebook in a remote\n",
    "# jupyter environment. This process may take some time.\n",
    "\n",
    "if [ ! -d /armory-repo ]; then\n",
    "  git clone https://github.com/twosixlabs/armory.git /armory-repo\n",
    "  pip install armory-testbed[pytorch]\n",
    "fi"
   ]
  },
  {
   "cell_type": "markdown",
   "id": "4e6dbbf7-28af-4a72-a002-d04fce5dae35",
   "metadata": {
    "id": "4e6dbbf7-28af-4a72-a002-d04fce5dae35"
   },
   "source": [
    "### Loading the Scenario\n",
    "To load the scenario, we use Armory's `get()` function in `armory.scenarios.main`. The filepath used below is an example, and you'll receive the specific path logged to console after invoking `armory run`.\n",
    "\n",
    "Calling `load()` will load the pieces (model, dataset, attack, etc.) necessary to run the scenario."
   ]
  },
  {
   "cell_type": "code",
   "execution_count": 1,
   "id": "5h6-l-HwhE4t",
   "metadata": {
    "colab": {
     "base_uri": "https://localhost:8080/",
     "height": 336,
     "referenced_widgets": [
      "d6fe9b79200f47bab0a9b62c5efd53df",
      "c681c2e06568461582ee192128be1bff",
      "92a36c86123e4fac97cc51ad46619b40",
      "9edf488dc0d948f985e4ec6ebbbd89f8",
      "41220acafbb64bcca99d8eca780790c3",
      "168ac000add74f2e9ef366a83c4a01ee",
      "b62a65a467df452eb34b0c96301aa016",
      "c41d8e3d21fe49aea90335982bc9ecd8",
      "0439a476de32445fbf2e135e4e270009",
      "1133787431c34e508adff99187f0ebae",
      "fd8694ca3e774f6385f2cd529b6506a3"
     ]
    },
    "id": "5h6-l-HwhE4t",
    "outputId": "5bc9199b-f5a1-4cf2-b1bd-589565e42694"
   },
   "outputs": [
    {
     "name": "stdout",
     "output_type": "stream",
     "text": [
      "2022-11-10 15:07:38  0s \u001b[1mINFO    \u001b[0m \u001b[36marmory.delayed_imports\u001b[0m:\u001b[36m<module>\u001b[0m:\u001b[36m7\u001b[0m Importing and configuring torch, tensorflow, and art, if available. This may take some time.\n"
     ]
    },
    {
     "name": "stderr",
     "output_type": "stream",
     "text": [
      "2022-11-10 15:07:39.381202: I tensorflow/core/platform/cpu_feature_guard.cc:193] This TensorFlow binary is optimized with oneAPI Deep Neural Network Library (oneDNN) to use the following CPU instructions in performance-critical operations:  AVX2 FMA\n",
      "To enable them in other operations, rebuild TensorFlow with the appropriate compiler flags.\n",
      "2022-11-10 15:07:39.607752: E tensorflow/stream_executor/cuda/cuda_blas.cc:2981] Unable to register cuBLAS factory: Attempting to register factory for plugin cuBLAS when one has already been registered\n",
      "2022-11-10 15:07:40.285716: W tensorflow/stream_executor/platform/default/dso_loader.cc:64] Could not load dynamic library 'libnvinfer.so.7'; dlerror: libnvinfer.so.7: cannot open shared object file: No such file or directory; LD_LIBRARY_PATH: /usr/local/nvidia/lib:/usr/local/nvidia/lib64:/opt/conda/lib/\n",
      "2022-11-10 15:07:40.285822: W tensorflow/stream_executor/platform/default/dso_loader.cc:64] Could not load dynamic library 'libnvinfer_plugin.so.7'; dlerror: libnvinfer_plugin.so.7: cannot open shared object file: No such file or directory; LD_LIBRARY_PATH: /usr/local/nvidia/lib:/usr/local/nvidia/lib64:/opt/conda/lib/\n",
      "2022-11-10 15:07:40.285831: W tensorflow/compiler/tf2tensorrt/utils/py_utils.cc:38] TF-TRT Warning: Cannot dlopen some TensorRT libraries. If you would like to use Nvidia GPU with TensorRT, please make sure the missing libraries mentioned above are installed properly.\n"
     ]
    },
    {
     "name": "stdout",
     "output_type": "stream",
     "text": [
      "2022-11-10 15:07:41  2s \u001b[1mINFO    \u001b[0m \u001b[36mart.config\u001b[0m:\u001b[36mset_data_path\u001b[0m:\u001b[36m55\u001b[0m set ART_DATA_PATH to /tmp/.art/data\n"
     ]
    },
    {
     "name": "stderr",
     "output_type": "stream",
     "text": [
      "2022-11-10 15:07:41.350711: W tensorflow/stream_executor/platform/default/dso_loader.cc:64] Could not load dynamic library 'libcuda.so.1'; dlerror: libcuda.so.1: cannot open shared object file: No such file or directory; LD_LIBRARY_PATH: /usr/local/nvidia/lib:/usr/local/nvidia/lib64:/opt/conda/lib/\n",
      "2022-11-10 15:07:41.350768: W tensorflow/stream_executor/cuda/cuda_driver.cc:263] failed call to cuInit: UNKNOWN ERROR (303)\n",
      "2022-11-10 15:07:41.350788: I tensorflow/stream_executor/cuda/cuda_diagnostics.cc:156] kernel driver does not appear to be running on this host (2d3de86d09cc): /proc/driver/nvidia/version does not exist\n"
     ]
    },
    {
     "name": "stdout",
     "output_type": "stream",
     "text": [
      "2022-11-10 15:07:41  3s \u001b[1mINFO    \u001b[0m \u001b[36mart.config\u001b[0m:\u001b[36mset_data_path\u001b[0m:\u001b[36m55\u001b[0m set ART_DATA_PATH to /armory/saved_models/art\n",
      "2022-11-10 15:07:42  3s \u001b[31m\u001b[1mERROR   \u001b[0m \u001b[36marmory.scenarios.main\u001b[0m:\u001b[36m_scenario_setup\u001b[0m:\u001b[36m41\u001b[0m eval_id not in config. Inserting current timestamp 1668092862.3402898\n",
      "2022-11-10 15:07:42  3s \u001b[1mINFO    \u001b[0m \u001b[36marmory.scenarios.main\u001b[0m:\u001b[36m_scenario_setup\u001b[0m:\u001b[36m49\u001b[0m armory outputs and logs will be written to /armory/outputs/1668092862.3402898\n",
      "2022-11-10 15:07:42  4s \u001b[1mINFO    \u001b[0m \u001b[36marmory.utils.external_repo\u001b[0m:\u001b[36mdownload_and_extract_repo\u001b[0m:\u001b[36m129\u001b[0m Downloading external repo: colour-science/colour@v0.3.16\n",
      "2022-11-10 15:07:43  4s \u001b[1mINFO    \u001b[0m \u001b[36marmory.data.utils\u001b[0m:\u001b[36mmaybe_download_weights_from_s3\u001b[0m:\u001b[36m47\u001b[0m Using available carla_rgb_weights_eval5.pt in Armory `saved_model_dir`\n",
      "2022-11-10 15:07:46  7s \u001b[1mINFO    \u001b[0m \u001b[36mmatplotlib.font_manager\u001b[0m:\u001b[36m_load_fontmanager\u001b[0m:\u001b[36m1624\u001b[0m generated new fontManager\n",
      "2022-11-10 15:07:46  7s \u001b[1mINFO    \u001b[0m \u001b[36marmory.scenarios.scenario\u001b[0m:\u001b[36mload_dataset\u001b[0m:\u001b[36m205\u001b[0m Loading test dataset carla_obj_det_dev...\n"
     ]
    },
    {
     "name": "stderr",
     "output_type": "stream",
     "text": [
      "2022-11-10 15:07:46.334020: I tensorflow/core/platform/cpu_feature_guard.cc:193] This TensorFlow binary is optimized with oneAPI Deep Neural Network Library (oneDNN) to use the following CPU instructions in performance-critical operations:  AVX2 FMA\n",
      "To enable them in other operations, rebuild TensorFlow with the appropriate compiler flags.\n"
     ]
    }
   ],
   "source": [
    "# When launched interactively, using --interactive, the scenario config will\n",
    "# be copied to a time-stamped sub-directory of `/armory/tmp/`.\n",
    "# Example:\n",
    "#    >>> # To run, inside of a notebook:\n",
    "#    >>>     from armory.scenarios.main import get as get_scenario\n",
    "#    >>>     s = get_scenario(\"/armory/tmp/2022-11-09T130708.219154/interactive-config.json\").load()\n",
    "#    >>>     s.evaluate()\n",
    "\n",
    "from armory.scenarios.main import get as get_scenario\n",
    "\n",
    "scenario_config = \"/armory-repo/scenario_configs/eval5/carla_object_detection/carla_obj_det_dpatch_undefended.json\"\n",
    "\n",
    "s = get_scenario(scenario_config).load()"
   ]
  },
  {
   "cell_type": "markdown",
   "id": "554ba89f-4869-4b1a-921b-d3ba5309778c",
   "metadata": {
    "id": "554ba89f-4869-4b1a-921b-d3ba5309778c"
   },
   "source": [
    "Now that we've instatiated the scenario object, we could simply call `s.evaluate()` to run the entire scenario from start to finish. However, in this tutorial, we'll demonstrate how to run the scenario in a step-by-step fashion."
   ]
  },
  {
   "cell_type": "markdown",
   "id": "bb84a746-5257-44e5-a0fb-89a6d6eeb8d2",
   "metadata": {
    "id": "bb84a746-5257-44e5-a0fb-89a6d6eeb8d2"
   },
   "source": [
    "To grab our first batch of data, we call the scenario's `next()` method. At this point, we can now access `x` and `y` as attributes of the scenario object, as well as `i` for the batch index:"
   ]
  },
  {
   "cell_type": "code",
   "execution_count": null,
   "id": "7fd4ce5e-2012-4d3e-aaba-c0065fde00d6",
   "metadata": {
    "colab": {
     "base_uri": "https://localhost:8080/"
    },
    "id": "7fd4ce5e-2012-4d3e-aaba-c0065fde00d6",
    "outputId": "2611aa9b-d107-41ee-a124-84394828a646"
   },
   "outputs": [
    {
     "data": {
      "text/plain": [
       "(1, 960, 1280, 3)"
      ]
     },
     "execution_count": 4,
     "metadata": {},
     "output_type": "execute_result"
    }
   ],
   "source": [
    "s.next()\n",
    "s.x.shape"
   ]
  },
  {
   "cell_type": "markdown",
   "id": "0ba9ada4-d748-4232-9787-f02e93e63207",
   "metadata": {
    "id": "0ba9ada4-d748-4232-9787-f02e93e63207"
   },
   "source": [
    "### Executing the Scenario\n",
    "Armory scenarios, at a high level, execute in the following manner:\n",
    "1. Load the next batch of data\n",
    "2. Predict on the benign sample\n",
    "3. Generate an adversarial sample and make a prediction on it\n",
    "\n",
    "We did step 1 when we called `s.next()` earlier. To predict on the benign sample, we can call `s.run_benign()`. Similarly for step 3, we call `s.run_attack()`. Calling `s.evaluate_current()` would call both of these methods, but in this example we'll run each step one at a time:"
   ]
  },
  {
   "cell_type": "code",
   "execution_count": null,
   "id": "1b65770f-6670-4c79-a989-c9e7b44bce5b",
   "metadata": {
    "id": "1b65770f-6670-4c79-a989-c9e7b44bce5b"
   },
   "outputs": [],
   "source": [
    "s.run_benign()"
   ]
  },
  {
   "cell_type": "markdown",
   "id": "f127f15a-4fc9-40ce-8852-91cecfd9cdb1",
   "metadata": {
    "id": "f127f15a-4fc9-40ce-8852-91cecfd9cdb1"
   },
   "source": [
    "The benign prediction is now accessible via the `y_pred` attribute:"
   ]
  },
  {
   "cell_type": "code",
   "execution_count": null,
   "id": "9ac194b9-ab98-4265-8094-0d418d377565",
   "metadata": {
    "colab": {
     "base_uri": "https://localhost:8080/"
    },
    "id": "9ac194b9-ab98-4265-8094-0d418d377565",
    "outputId": "b0440126-b5e2-4f9e-8ed8-acee80917a33"
   },
   "outputs": [
    {
     "data": {
      "text/plain": [
       "[{'boxes': array([[  0.00000000e+00,   4.31345245e+02,   5.26877808e+02,\n",
       "            6.33994141e+02],\n",
       "         [  1.19789160e+03,   4.61878448e+02,   1.23797986e+03,\n",
       "            5.52101562e+02],\n",
       "         [  1.04172998e+03,   4.59246674e+02,   1.06950269e+03,\n",
       "            5.36661743e+02],\n",
       "         [  8.22440369e+02,   4.68223999e+02,   8.46305420e+02,\n",
       "            5.20457397e+02],\n",
       "         [  9.14201355e+02,   4.62828400e+02,   9.54305725e+02,\n",
       "            5.26226624e+02],\n",
       "         [  7.71409302e+02,   4.68521088e+02,   7.86138733e+02,\n",
       "            5.10685150e+02],\n",
       "         [  7.85914246e+02,   4.70420380e+02,   8.04799866e+02,\n",
       "            5.23021118e+02],\n",
       "         [  7.77562683e+02,   4.67268280e+02,   7.96583557e+02,\n",
       "            5.21993408e+02],\n",
       "         [  8.92775024e+02,   4.70374207e+02,   9.20738953e+02,\n",
       "            4.93356934e+02],\n",
       "         [  3.29152161e+02,   4.81392365e+02,   5.22157837e+02,\n",
       "            5.81324707e+02],\n",
       "         [  1.26745471e+03,   4.85850464e+02,   1.28000000e+03,\n",
       "            5.14413818e+02],\n",
       "         [  9.14480652e+02,   4.66660126e+02,   9.36015320e+02,\n",
       "            5.19728210e+02],\n",
       "         [  7.69246643e+02,   4.68379181e+02,   8.09353943e+02,\n",
       "            5.21449585e+02],\n",
       "         [  8.00037292e+02,   4.69427460e+02,   8.54113586e+02,\n",
       "            5.21248352e+02],\n",
       "         [  7.96320740e+02,   4.72787140e+02,   8.10345825e+02,\n",
       "            5.16136169e+02],\n",
       "         [  1.07327271e+03,   4.64806244e+02,   1.10017236e+03,\n",
       "            5.02278778e+02],\n",
       "         [  1.04192419e+03,   4.64507385e+02,   1.06728259e+03,\n",
       "            5.04019073e+02],\n",
       "         [  1.66677567e+02,   4.72494812e+02,   5.19480103e+02,\n",
       "            5.95733948e+02],\n",
       "         [  1.19610584e+00,   4.30872467e+02,   1.56164505e+02,\n",
       "            6.20351990e+02],\n",
       "         [  8.82234985e+02,   4.60411407e+02,   9.60610046e+02,\n",
       "            5.19376404e+02],\n",
       "         [  8.25577820e+02,   4.63777832e+02,   8.94562500e+02,\n",
       "            5.15618652e+02],\n",
       "         [  1.07396924e+03,   4.71415436e+02,   1.10063293e+03,\n",
       "            4.96920654e+02],\n",
       "         [  6.71869397e-01,   5.21304688e+02,   1.14630022e+01,\n",
       "            5.60383057e+02],\n",
       "         [  8.00728699e+02,   4.89108307e+02,   8.11165039e+02,\n",
       "            5.18882507e+02],\n",
       "         [  9.15162720e+02,   4.68940216e+02,   9.54756226e+02,\n",
       "            5.26510498e+02],\n",
       "         [  1.26662915e+03,   4.83386261e+02,   1.27946509e+03,\n",
       "            5.14663452e+02],\n",
       "         [  8.89007812e+02,   4.64505768e+02,   9.01760986e+02,\n",
       "            4.92340088e+02],\n",
       "         [  1.03823279e+03,   4.63228119e+02,   1.12456274e+03,\n",
       "            5.13264526e+02],\n",
       "         [  7.92702515e+02,   4.40508148e+02,   9.43730713e+02,\n",
       "            5.21382202e+02],\n",
       "         [  3.47916779e+02,   4.54290619e+02,   3.64440308e+02,\n",
       "            4.82491119e+02],\n",
       "         [  8.11981812e+02,   4.72923248e+02,   8.22668213e+02,\n",
       "            5.07718933e+02],\n",
       "         [  2.86763096e+00,   4.26008484e+02,   2.98080170e+02,\n",
       "            6.13506165e+02],\n",
       "         [  9.09325745e+02,   4.67658630e+02,   9.25657837e+02,\n",
       "            5.10224792e+02],\n",
       "         [  8.11232971e+02,   4.76656433e+02,   8.23537781e+02,\n",
       "            5.05131378e+02],\n",
       "         [  1.19516125e+03,   4.76323730e+02,   1.20596130e+03,\n",
       "            5.14152954e+02],\n",
       "         [  8.30325562e+02,   4.57646515e+02,   8.91646606e+02,\n",
       "            5.18592346e+02],\n",
       "         [  8.02639404e+02,   4.72755707e+02,   8.20606384e+02,\n",
       "            5.09334839e+02],\n",
       "         [  8.75100403e+02,   4.64224304e+02,   9.64095459e+02,\n",
       "            5.16634094e+02],\n",
       "         [  9.12907471e+02,   4.67679718e+02,   9.30569153e+02,\n",
       "            4.99490875e+02],\n",
       "         [  2.35062256e+01,   4.35977631e+02,   3.64906036e+02,\n",
       "            5.08225189e+02]], dtype=float32),\n",
       "  'labels': array([2, 1, 1, 1, 1, 1, 1, 1, 2, 2, 2, 1, 1, 1, 1, 1, 1, 2, 2, 1, 2, 2, 2,\n",
       "         1, 2, 1, 2, 1, 1, 1, 1, 2, 1, 2, 1, 1, 1, 2, 1, 2]),\n",
       "  'scores': array([ 0.9997086 ,  0.9994326 ,  0.99910635,  0.9982855 ,  0.9957188 ,\n",
       "          0.9850594 ,  0.9841854 ,  0.7813225 ,  0.42593905,  0.32284304,\n",
       "          0.31888402,  0.3171114 ,  0.29147303,  0.2621869 ,  0.25077555,\n",
       "          0.23226449,  0.22397462,  0.18746445,  0.13974914,  0.12420893,\n",
       "          0.11939318,  0.10557413,  0.0997288 ,  0.09225649,  0.09003099,\n",
       "          0.0777317 ,  0.07537865,  0.07287546,  0.07275182,  0.06917944,\n",
       "          0.06714828,  0.06653319,  0.06136809,  0.06116852,  0.05926892,\n",
       "          0.05481562,  0.05480078,  0.05261713,  0.05105627,  0.05090784], dtype=float32)}]"
      ]
     },
     "execution_count": 6,
     "metadata": {},
     "output_type": "execute_result"
    }
   ],
   "source": [
    "s.y_pred"
   ]
  },
  {
   "cell_type": "markdown",
   "id": "1ee267a7-8198-4328-8879-0c6d669d15b7",
   "metadata": {
    "id": "1ee267a7-8198-4328-8879-0c6d669d15b7"
   },
   "source": [
    "Next, we run the attack. For the sake of brevity in this tutorial, we'll modify the `\"max_iter\"` parameter of the attack first:"
   ]
  },
  {
   "cell_type": "code",
   "execution_count": null,
   "id": "82a85329-cfee-4397-b13b-2f8d79ce0660",
   "metadata": {
    "colab": {
     "base_uri": "https://localhost:8080/",
     "height": 49,
     "referenced_widgets": [
      "7a6bd5fbe31d49e589b0f0cd2d188ff1",
      "44a2edc8558a4dab93d46cd9757e730f",
      "7191a2c1e06840d1929011ff8a85ea7e",
      "3d610f3e79fa43748f5d9020c117dd10",
      "426cc965cae945cbbe92aac9bcf3fbef",
      "501fb0f747b243d6bd1595ef4132fcb3",
      "a45f4d8a0b99419d8b571bb6ba49d59b",
      "0e6c55f20a02400e93dcea40659e9fad",
      "def02112b8d64fc6ab48a774fdea1191",
      "4295a653630b46d3947cbdaaf704c163",
      "1087cc6467de4c1382d39946460bc6cc"
     ]
    },
    "id": "82a85329-cfee-4397-b13b-2f8d79ce0660",
    "outputId": "308870ab-f9a7-4111-cb71-e601da92cc67"
   },
   "outputs": [
    {
     "data": {
      "application/vnd.jupyter.widget-view+json": {
       "model_id": "7a6bd5fbe31d49e589b0f0cd2d188ff1",
       "version_major": 2,
       "version_minor": 0
      },
      "text/plain": [
       "RobustDPatch iteration:   0%|          | 0/5 [00:00<?, ?it/s]"
      ]
     },
     "metadata": {},
     "output_type": "display_data"
    }
   ],
   "source": [
    "s.config[\"attack\"][\"kwargs\"][\"max_iter\"] = 5\n",
    "s.load_attack()\n",
    "\n",
    "s.run_attack()"
   ]
  },
  {
   "cell_type": "markdown",
   "id": "0e4d24c2-7eb3-4b3b-a7aa-c000a4cd3170",
   "metadata": {
    "id": "0e4d24c2-7eb3-4b3b-a7aa-c000a4cd3170"
   },
   "source": [
    "At this point, we can access the adversarial sample via the `x_adv` attribute:"
   ]
  },
  {
   "cell_type": "code",
   "execution_count": null,
   "id": "77449b17-44ee-45a3-a5ea-238f6e935b9d",
   "metadata": {
    "colab": {
     "base_uri": "https://localhost:8080/"
    },
    "id": "77449b17-44ee-45a3-a5ea-238f6e935b9d",
    "outputId": "3fa33331-dfa9-4545-a6ca-d6152c67a9ef"
   },
   "outputs": [
    {
     "data": {
      "text/plain": [
       "(1, 960, 1280, 3)"
      ]
     },
     "execution_count": 8,
     "metadata": {},
     "output_type": "execute_result"
    }
   ],
   "source": [
    "s.x_adv.shape"
   ]
  },
  {
   "cell_type": "markdown",
   "id": "f0196a40-7aa6-4278-a51a-4af247d9d1bc",
   "metadata": {
    "id": "f0196a40-7aa6-4278-a51a-4af247d9d1bc"
   },
   "source": [
    "To continue this process, we could keep calling `s.next()` followed by `s.run_benign()` and `s.run_attack()`. Once we'd like to close out the experiment, we could then call `s.finalize_results()` and observe the logged results. Instead, in the following section we'll show how to export and view data examples."
   ]
  },
  {
   "cell_type": "markdown",
   "id": "87d759f4-c6b0-40a8-a053-5c65a947f8e7",
   "metadata": {
    "id": "87d759f4-c6b0-40a8-a053-5c65a947f8e7"
   },
   "source": [
    "### Exporting and Viewing Data Examples\n",
    "\n",
    "#### Exporting Data\n",
    "Here we will show how to export data examples using the `sample_exporter` object. By \"export\", we mean write examples (.png, .wav, .mp4, etc. depending on the scenario) to the `~/.armory` experiment output directory. \n",
    "\n",
    "Each scenario object contains a `sample_exporter` which implements an `export()` method taking the following inputs:\n",
    "\n",
    "```\n",
    "def export(self, x, basename, **kwargs):\n",
    "```\n",
    "\n",
    "In the simplest case, to export the raw inputs without any annotation (e.g. bounding boxes), we can call the following (note that the `with_boxes` kwarg is specific to object detection scenarios):"
   ]
  },
  {
   "cell_type": "code",
   "execution_count": null,
   "id": "881f03ca-fa9a-45a1-adcc-a30bb73ed69c",
   "metadata": {
    "colab": {
     "base_uri": "https://localhost:8080/"
    },
    "id": "881f03ca-fa9a-45a1-adcc-a30bb73ed69c",
    "outputId": "87e36d4a-8543-4a55-82ed-13f6603ad2c9"
   },
   "outputs": [
    {
     "name": "stdout",
     "output_type": "stream",
     "text": [
      "/armory/outputs/1667923392.7153594/saved_samples\n"
     ]
    }
   ],
   "source": [
    "batch_number = s.i\n",
    "s.sample_exporter.export(s.x[0], f\"benign_x_batch_{batch_number}\", with_boxes=False)\n",
    "\n",
    "print(s.sample_exporter.output_dir)"
   ]
  },
  {
   "cell_type": "markdown",
   "id": "f6c14c16-de34-43d9-9908-4846e76a41b5",
   "metadata": {
    "id": "f6c14c16-de34-43d9-9908-4846e76a41b5"
   },
   "source": [
    "The print statement was added to show the location of the Armory scenario output directory. If running in docker, note that this is the path inside the container and that the container path `/armory` should map to the host path `~/.armory`.\n",
    "\n",
    "Now looking inside the scenario output directory, we see the image we just exported.\n",
    "\n",
    "```\n",
    "I have no name!@b24233d4dd79:/workspace$ ls /armory/outputs/2022-05-23T153707.378169/saved_samples\n",
    "benign_x_batch_0.png\n",
    "\n",
    "```"
   ]
  },
  {
   "cell_type": "markdown",
   "id": "8d8d84b8-5a73-4a03-90ff-e94ef4537a2a",
   "metadata": {
    "id": "8d8d84b8-5a73-4a03-90ff-e94ef4537a2a"
   },
   "source": [
    "This next bit is specific to object detection, but to save the image with ground-truth and predicted boxes we can pass `y` and `y_pred` kwargs to the `export()` call:"
   ]
  },
  {
   "cell_type": "code",
   "execution_count": null,
   "id": "8a79c618-294a-4b0d-8b96-2046f33fe9b0",
   "metadata": {
    "id": "8a79c618-294a-4b0d-8b96-2046f33fe9b0"
   },
   "outputs": [],
   "source": [
    "s.sample_exporter.export(\n",
    "    s.x[0],\n",
    "    f\"benign_x_batch_{batch_number}_with_boxes\",\n",
    "    y=s.y[0],\n",
    "    y_pred=s.y_pred[0],\n",
    "    with_boxes=True,\n",
    ")"
   ]
  },
  {
   "cell_type": "markdown",
   "id": "334adf8a-47ce-436a-a65e-dbea864873fe",
   "metadata": {
    "id": "334adf8a-47ce-436a-a65e-dbea864873fe"
   },
   "source": [
    "#### Viewing Data\n",
    "The `sample_exporter` class also makes it easy to retrieve viewable examples, specifically PIL objects in the case of image-related scenarios. These can be accessed via the `sample_exporter`'s `get_sample()` method which typically takes in a single input `x`. For scenarios with bounding boxes, this method also optionally takes in `y`, `y_pred`, and a boolean `with_boxes`. "
   ]
  },
  {
   "cell_type": "code",
   "execution_count": null,
   "id": "d18d417e-71d4-4b30-9294-5dbd1e07f185",
   "metadata": {
    "id": "d18d417e-71d4-4b30-9294-5dbd1e07f185"
   },
   "outputs": [],
   "source": [
    "x_pil = s.sample_exporter.get_sample(\n",
    "    s.x[0], y=s.y[0], y_pred=s.y_pred[0], with_boxes=True\n",
    ")\n",
    "x_adv_pil = s.sample_exporter.get_sample(\n",
    "    s.x_adv[0], y=s.y[0], y_pred=s.y_pred_adv[0], with_boxes=True\n",
    ")"
   ]
  },
  {
   "cell_type": "markdown",
   "id": "5a425b1e-4fbc-43ab-9bf8-7e77a64f429a",
   "metadata": {
    "id": "5a425b1e-4fbc-43ab-9bf8-7e77a64f429a"
   },
   "source": [
    "Now we can use Jupyter's built-in `display()` function to view the images:"
   ]
  },
  {
   "cell_type": "code",
   "execution_count": null,
   "id": "08bfe0ee-fd05-4375-a734-f99268439cf6",
   "metadata": {
    "colab": {
     "base_uri": "https://localhost:8080/",
     "height": 977
    },
    "id": "08bfe0ee-fd05-4375-a734-f99268439cf6",
    "outputId": "a0e0e844-502a-4fa4-ec54-678b53ccc436"
   },
   "outputs": [],
   "source": [
    "display(x_pil)"
   ]
  },
  {
   "cell_type": "code",
   "execution_count": null,
   "id": "fc9a0932-c157-433e-8a83-1c4088c8489a",
   "metadata": {
    "colab": {
     "base_uri": "https://localhost:8080/",
     "height": 977
    },
    "id": "fc9a0932-c157-433e-8a83-1c4088c8489a",
    "outputId": "2d2cf7d3-326a-404c-c5f8-6560fa098449"
   },
   "outputs": [],
   "source": [
    "display(x_adv_pil)"
   ]
  },
  {
   "cell_type": "markdown",
   "id": "bc0473c3-2b23-489d-a2bd-290365faa53f",
   "metadata": {
    "id": "bc0473c3-2b23-489d-a2bd-290365faa53f"
   },
   "source": [
    "### Finishing the Experiment\n",
    "If you'd like to run the experiment over the rest of the data examples, simply call `s.evaluate()`. Doing so will complete the rest of the evaluation, prepare and finalize the results, and write the results JSON to the Armory scenario output directory.\n",
    "\n",
    "If instead you'd like to finish the experiment at its current step, call `s.finalize_results()` which logs the experiment results to console."
   ]
  },
  {
   "cell_type": "code",
   "execution_count": null,
   "id": "650f257e-5221-4d5c-95fa-de098c2c82b9",
   "metadata": {
    "colab": {
     "base_uri": "https://localhost:8080/"
    },
    "id": "650f257e-5221-4d5c-95fa-de098c2c82b9",
    "outputId": "d48773ce-f7d4-4450-958a-2d3d4773de52"
   },
   "outputs": [
    {
     "name": "stdout",
     "output_type": "stream",
     "text": [
      "2022-11-08 16:05:50 2m46s \u001b[32m\u001b[1mSUCCESS \u001b[0m \u001b[36marmory.instrument.config\u001b[0m:\u001b[36m_write\u001b[0m:\u001b[36m225\u001b[0m benign_carla_od_AP_per_class on benign examples w.r.t. ground truth labels: {'mean': 0.89500000000000002, 'class': {1: 0.93999999999999995, 2: 0.84999999999999998}}\n",
      "2022-11-08 16:05:50 2m46s \u001b[32m\u001b[1mSUCCESS \u001b[0m \u001b[36marmory.instrument.config\u001b[0m:\u001b[36m_write\u001b[0m:\u001b[36m225\u001b[0m adversarial_carla_od_AP_per_class on adversarial examples w.r.t. ground truth labels: {'mean': 0.69999999999999996, 'class': {1: 0.69999999999999996, 2: 0.69999999999999996}}\n",
      "2022-11-08 16:05:50 2m46s \u001b[32m\u001b[1mSUCCESS \u001b[0m \u001b[36marmory.instrument.config\u001b[0m:\u001b[36m_write\u001b[0m:\u001b[36m225\u001b[0m benign_mean_carla_od_disappearance_rate on benign examples w.r.t. ground truth labels: 30.00%\n",
      "2022-11-08 16:05:50 2m46s \u001b[32m\u001b[1mSUCCESS \u001b[0m \u001b[36marmory.instrument.config\u001b[0m:\u001b[36m_write\u001b[0m:\u001b[36m225\u001b[0m adversarial_mean_carla_od_disappearance_rate on adversarial examples w.r.t. ground truth labels: 40.00%\n",
      "2022-11-08 16:05:50 2m46s \u001b[32m\u001b[1mSUCCESS \u001b[0m \u001b[36marmory.instrument.config\u001b[0m:\u001b[36m_write\u001b[0m:\u001b[36m225\u001b[0m benign_mean_carla_od_hallucinations_per_image on benign examples w.r.t. ground truth labels: 1.0\n",
      "2022-11-08 16:05:50 2m46s \u001b[32m\u001b[1mSUCCESS \u001b[0m \u001b[36marmory.instrument.config\u001b[0m:\u001b[36m_write\u001b[0m:\u001b[36m225\u001b[0m adversarial_mean_carla_od_hallucinations_per_image on adversarial examples w.r.t. ground truth labels: 4.0\n",
      "2022-11-08 16:05:50 2m46s \u001b[32m\u001b[1mSUCCESS \u001b[0m \u001b[36marmory.instrument.config\u001b[0m:\u001b[36m_write\u001b[0m:\u001b[36m225\u001b[0m benign_mean_carla_od_misclassification_rate on benign examples w.r.t. ground truth labels: 0.00%\n",
      "2022-11-08 16:05:50 2m46s \u001b[32m\u001b[1mSUCCESS \u001b[0m \u001b[36marmory.instrument.config\u001b[0m:\u001b[36m_write\u001b[0m:\u001b[36m225\u001b[0m adversarial_mean_carla_od_misclassification_rate on adversarial examples w.r.t. ground truth labels: 0.00%\n",
      "2022-11-08 16:05:50 2m46s \u001b[32m\u001b[1mSUCCESS \u001b[0m \u001b[36marmory.instrument.config\u001b[0m:\u001b[36m_write\u001b[0m:\u001b[36m225\u001b[0m benign_mean_carla_od_true_positive_rate on benign examples w.r.t. ground truth labels: 70.00%\n",
      "2022-11-08 16:05:50 2m46s \u001b[32m\u001b[1mSUCCESS \u001b[0m \u001b[36marmory.instrument.config\u001b[0m:\u001b[36m_write\u001b[0m:\u001b[36m225\u001b[0m adversarial_mean_carla_od_true_positive_rate on adversarial examples w.r.t. ground truth labels: 60.00%\n",
      "2022-11-08 16:05:50 2m46s \u001b[32m\u001b[1mSUCCESS \u001b[0m \u001b[36marmory.instrument.config\u001b[0m:\u001b[36m_write\u001b[0m:\u001b[36m225\u001b[0m adversarial_carla_od_AP_per_class_wrt_benign_preds on adversarial examples w.r.t. benign predictions as labels: {'mean': 0.44500000000000001, 'class': {1: 0.53000000000000003, 2: 0.35999999999999999}}\n",
      "2022-11-08 16:05:50 2m46s \u001b[32m\u001b[1mSUCCESS \u001b[0m \u001b[36marmory.instrument.config\u001b[0m:\u001b[36m_write\u001b[0m:\u001b[36m225\u001b[0m adversarial_mean_carla_od_disappearance_rate_wrt_benign_preds on adversarial examples w.r.t. benign predictions as labels: 72.50%\n",
      "2022-11-08 16:05:50 2m46s \u001b[32m\u001b[1mSUCCESS \u001b[0m \u001b[36marmory.instrument.config\u001b[0m:\u001b[36m_write\u001b[0m:\u001b[36m225\u001b[0m adversarial_mean_carla_od_hallucinations_per_image_wrt_benign_preds on adversarial examples w.r.t. benign predictions as labels: 1.0\n",
      "2022-11-08 16:05:50 2m46s \u001b[32m\u001b[1mSUCCESS \u001b[0m \u001b[36marmory.instrument.config\u001b[0m:\u001b[36m_write\u001b[0m:\u001b[36m225\u001b[0m adversarial_mean_carla_od_misclassification_rate_wrt_benign_preds on adversarial examples w.r.t. benign predictions as labels: 5.00%\n",
      "2022-11-08 16:05:50 2m46s \u001b[32m\u001b[1mSUCCESS \u001b[0m \u001b[36marmory.instrument.config\u001b[0m:\u001b[36m_write\u001b[0m:\u001b[36m225\u001b[0m adversarial_mean_carla_od_true_positive_rate_wrt_benign_preds on adversarial examples w.r.t. benign predictions as labels: 22.50%\n"
     ]
    }
   ],
   "source": [
    "s.finalize_results()"
   ]
  },
  {
   "cell_type": "markdown",
   "id": "30d96372-cc66-422a-8202-9eb927f8974c",
   "metadata": {
    "id": "30d96372-cc66-422a-8202-9eb927f8974c"
   },
   "source": [
    "Afterwards, you can then call `s.save()` to write the results JSON to the Armory output directory. Alternatively, if you'd like to return the results as a Python dictionary, call `s.prepare_results()`."
   ]
  },
  {
   "cell_type": "code",
   "execution_count": null,
   "id": "6d7ce30a-979a-4f10-816d-7f63f33c3f64",
   "metadata": {
    "colab": {
     "base_uri": "https://localhost:8080/"
    },
    "id": "6d7ce30a-979a-4f10-816d-7f63f33c3f64",
    "outputId": "132b28af-2978-4fc9-f1ef-7c6ffdb1d71d"
   },
   "outputs": [
    {
     "name": "stdout",
     "output_type": "stream",
     "text": [
      "dict_keys(['armory_version', 'config', 'results', 'timestamp'])\n"
     ]
    }
   ],
   "source": [
    "results_dict = s.prepare_results()\n",
    "print(results_dict.keys())"
   ]
  },
  {
   "cell_type": "code",
   "execution_count": null,
   "id": "f313e739-feb1-4b1b-8a5f-e7278cb3f4f0",
   "metadata": {
    "colab": {
     "base_uri": "https://localhost:8080/"
    },
    "id": "f313e739-feb1-4b1b-8a5f-e7278cb3f4f0",
    "outputId": "21f6b94e-8e92-4e15-dbf1-c64dce8faa1f"
   },
   "outputs": [
    {
     "name": "stdout",
     "output_type": "stream",
     "text": [
      "{'benign_carla_od_AP_per_class': [{'mean': 0.89500000000000002, 'class': {1: 0.93999999999999995, 2: 0.84999999999999998}}], 'adversarial_carla_od_AP_per_class': [{'mean': 0.69999999999999996, 'class': {1: 0.69999999999999996, 2: 0.69999999999999996}}], 'benign_mean_carla_od_disappearance_rate': [0.30000000000000004], 'adversarial_mean_carla_od_disappearance_rate': [0.40000000000000002], 'benign_mean_carla_od_hallucinations_per_image': [1.0], 'adversarial_mean_carla_od_hallucinations_per_image': [4.0], 'benign_mean_carla_od_misclassification_rate': [0.0], 'adversarial_mean_carla_od_misclassification_rate': [0.0], 'benign_mean_carla_od_true_positive_rate': [0.69999999999999996], 'adversarial_mean_carla_od_true_positive_rate': [0.59999999999999998], 'perturbation_mean_l0': [14659.0], 'adversarial_carla_od_AP_per_class_wrt_benign_preds': [{'mean': 0.44500000000000001, 'class': {1: 0.53000000000000003, 2: 0.35999999999999999}}], 'adversarial_mean_carla_od_disappearance_rate_wrt_benign_preds': [0.72499999999999998], 'adversarial_mean_carla_od_hallucinations_per_image_wrt_benign_preds': [1.0], 'adversarial_mean_carla_od_misclassification_rate_wrt_benign_preds': [0.050000000000000003], 'adversarial_mean_carla_od_true_positive_rate_wrt_benign_preds': [0.22500000000000001], 'compute': {}}\n"
     ]
    }
   ],
   "source": [
    "print(results_dict[\"results\"])"
   ]
  },
  {
   "cell_type": "code",
   "execution_count": null,
   "id": "ba15d29f-02fd-4538-81e6-461e84c3892b",
   "metadata": {
    "colab": {
     "base_uri": "https://localhost:8080/"
    },
    "id": "ba15d29f-02fd-4538-81e6-461e84c3892b",
    "outputId": "f3d96683-bbb1-4960-983e-5d589559d6cc"
   },
   "outputs": [
    {
     "name": "stdout",
     "output_type": "stream",
     "text": [
      "2022-11-08 16:06:03 2m59s \u001b[1mINFO    \u001b[0m \u001b[36marmory.scenarios.scenario\u001b[0m:\u001b[36msave\u001b[0m:\u001b[36m437\u001b[0m Saving evaluation results to path /armory/outputs/1667923392.7153594/CarlaObjectDetectionTask_1667923393.json inside container.\n"
     ]
    }
   ],
   "source": [
    "s.save()"
   ]
  }
 ],
 "metadata": {
  "accelerator": "GPU",
  "colab": {
   "collapsed_sections": [],
   "provenance": []
  },
  "gpuClass": "standard",
  "kernelspec": {
   "display_name": "Python 3.10.6 ('armory')",
   "language": "python",
   "name": "python3"
  },
  "language_info": {
   "codemirror_mode": {
    "name": "ipython",
    "version": 3
   },
   "file_extension": ".py",
   "mimetype": "text/x-python",
   "name": "python",
   "nbconvert_exporter": "python",
   "pygments_lexer": "ipython3",
   "version": "3.10.6"
  },
  "vscode": {
   "interpreter": {
    "hash": "40843df0e25ccecaa63788d1d9768af687e7a2468fdbcf8a13149815ab8fc13f"
   }
  },
  "widgets": {
   "application/vnd.jupyter.widget-state+json": {
    "0439a476de32445fbf2e135e4e270009": {
     "model_module": "@jupyter-widgets/controls",
     "model_module_version": "1.5.0",
     "model_name": "ProgressStyleModel",
     "state": {
      "_model_module": "@jupyter-widgets/controls",
      "_model_module_version": "1.5.0",
      "_model_name": "ProgressStyleModel",
      "_view_count": null,
      "_view_module": "@jupyter-widgets/base",
      "_view_module_version": "1.2.0",
      "_view_name": "StyleView",
      "bar_color": null,
      "description_width": ""
     }
    },
    "0e6c55f20a02400e93dcea40659e9fad": {
     "model_module": "@jupyter-widgets/base",
     "model_module_version": "1.2.0",
     "model_name": "LayoutModel",
     "state": {
      "_model_module": "@jupyter-widgets/base",
      "_model_module_version": "1.2.0",
      "_model_name": "LayoutModel",
      "_view_count": null,
      "_view_module": "@jupyter-widgets/base",
      "_view_module_version": "1.2.0",
      "_view_name": "LayoutView",
      "align_content": null,
      "align_items": null,
      "align_self": null,
      "border": null,
      "bottom": null,
      "display": null,
      "flex": null,
      "flex_flow": null,
      "grid_area": null,
      "grid_auto_columns": null,
      "grid_auto_flow": null,
      "grid_auto_rows": null,
      "grid_column": null,
      "grid_gap": null,
      "grid_row": null,
      "grid_template_areas": null,
      "grid_template_columns": null,
      "grid_template_rows": null,
      "height": null,
      "justify_content": null,
      "justify_items": null,
      "left": null,
      "margin": null,
      "max_height": null,
      "max_width": null,
      "min_height": null,
      "min_width": null,
      "object_fit": null,
      "object_position": null,
      "order": null,
      "overflow": null,
      "overflow_x": null,
      "overflow_y": null,
      "padding": null,
      "right": null,
      "top": null,
      "visibility": null,
      "width": null
     }
    },
    "1087cc6467de4c1382d39946460bc6cc": {
     "model_module": "@jupyter-widgets/controls",
     "model_module_version": "1.5.0",
     "model_name": "DescriptionStyleModel",
     "state": {
      "_model_module": "@jupyter-widgets/controls",
      "_model_module_version": "1.5.0",
      "_model_name": "DescriptionStyleModel",
      "_view_count": null,
      "_view_module": "@jupyter-widgets/base",
      "_view_module_version": "1.2.0",
      "_view_name": "StyleView",
      "description_width": ""
     }
    },
    "1133787431c34e508adff99187f0ebae": {
     "model_module": "@jupyter-widgets/base",
     "model_module_version": "1.2.0",
     "model_name": "LayoutModel",
     "state": {
      "_model_module": "@jupyter-widgets/base",
      "_model_module_version": "1.2.0",
      "_model_name": "LayoutModel",
      "_view_count": null,
      "_view_module": "@jupyter-widgets/base",
      "_view_module_version": "1.2.0",
      "_view_name": "LayoutView",
      "align_content": null,
      "align_items": null,
      "align_self": null,
      "border": null,
      "bottom": null,
      "display": null,
      "flex": null,
      "flex_flow": null,
      "grid_area": null,
      "grid_auto_columns": null,
      "grid_auto_flow": null,
      "grid_auto_rows": null,
      "grid_column": null,
      "grid_gap": null,
      "grid_row": null,
      "grid_template_areas": null,
      "grid_template_columns": null,
      "grid_template_rows": null,
      "height": null,
      "justify_content": null,
      "justify_items": null,
      "left": null,
      "margin": null,
      "max_height": null,
      "max_width": null,
      "min_height": null,
      "min_width": null,
      "object_fit": null,
      "object_position": null,
      "order": null,
      "overflow": null,
      "overflow_x": null,
      "overflow_y": null,
      "padding": null,
      "right": null,
      "top": null,
      "visibility": null,
      "width": null
     }
    },
    "168ac000add74f2e9ef366a83c4a01ee": {
     "model_module": "@jupyter-widgets/base",
     "model_module_version": "1.2.0",
     "model_name": "LayoutModel",
     "state": {
      "_model_module": "@jupyter-widgets/base",
      "_model_module_version": "1.2.0",
      "_model_name": "LayoutModel",
      "_view_count": null,
      "_view_module": "@jupyter-widgets/base",
      "_view_module_version": "1.2.0",
      "_view_name": "LayoutView",
      "align_content": null,
      "align_items": null,
      "align_self": null,
      "border": null,
      "bottom": null,
      "display": null,
      "flex": null,
      "flex_flow": null,
      "grid_area": null,
      "grid_auto_columns": null,
      "grid_auto_flow": null,
      "grid_auto_rows": null,
      "grid_column": null,
      "grid_gap": null,
      "grid_row": null,
      "grid_template_areas": null,
      "grid_template_columns": null,
      "grid_template_rows": null,
      "height": null,
      "justify_content": null,
      "justify_items": null,
      "left": null,
      "margin": null,
      "max_height": null,
      "max_width": null,
      "min_height": null,
      "min_width": null,
      "object_fit": null,
      "object_position": null,
      "order": null,
      "overflow": null,
      "overflow_x": null,
      "overflow_y": null,
      "padding": null,
      "right": null,
      "top": null,
      "visibility": null,
      "width": null
     }
    },
    "3d610f3e79fa43748f5d9020c117dd10": {
     "model_module": "@jupyter-widgets/controls",
     "model_module_version": "1.5.0",
     "model_name": "HTMLModel",
     "state": {
      "_dom_classes": [],
      "_model_module": "@jupyter-widgets/controls",
      "_model_module_version": "1.5.0",
      "_model_name": "HTMLModel",
      "_view_count": null,
      "_view_module": "@jupyter-widgets/controls",
      "_view_module_version": "1.5.0",
      "_view_name": "HTMLView",
      "description": "",
      "description_tooltip": null,
      "layout": "IPY_MODEL_4295a653630b46d3947cbdaaf704c163",
      "placeholder": "​",
      "style": "IPY_MODEL_1087cc6467de4c1382d39946460bc6cc",
      "value": " 5/5 [00:04&lt;00:00,  1.30it/s]"
     }
    },
    "41220acafbb64bcca99d8eca780790c3": {
     "model_module": "@jupyter-widgets/base",
     "model_module_version": "1.2.0",
     "model_name": "LayoutModel",
     "state": {
      "_model_module": "@jupyter-widgets/base",
      "_model_module_version": "1.2.0",
      "_model_name": "LayoutModel",
      "_view_count": null,
      "_view_module": "@jupyter-widgets/base",
      "_view_module_version": "1.2.0",
      "_view_name": "LayoutView",
      "align_content": null,
      "align_items": null,
      "align_self": null,
      "border": null,
      "bottom": null,
      "display": null,
      "flex": null,
      "flex_flow": null,
      "grid_area": null,
      "grid_auto_columns": null,
      "grid_auto_flow": null,
      "grid_auto_rows": null,
      "grid_column": null,
      "grid_gap": null,
      "grid_row": null,
      "grid_template_areas": null,
      "grid_template_columns": null,
      "grid_template_rows": null,
      "height": null,
      "justify_content": null,
      "justify_items": null,
      "left": null,
      "margin": null,
      "max_height": null,
      "max_width": null,
      "min_height": null,
      "min_width": null,
      "object_fit": null,
      "object_position": null,
      "order": null,
      "overflow": null,
      "overflow_x": null,
      "overflow_y": null,
      "padding": null,
      "right": null,
      "top": null,
      "visibility": null,
      "width": null
     }
    },
    "426cc965cae945cbbe92aac9bcf3fbef": {
     "model_module": "@jupyter-widgets/base",
     "model_module_version": "1.2.0",
     "model_name": "LayoutModel",
     "state": {
      "_model_module": "@jupyter-widgets/base",
      "_model_module_version": "1.2.0",
      "_model_name": "LayoutModel",
      "_view_count": null,
      "_view_module": "@jupyter-widgets/base",
      "_view_module_version": "1.2.0",
      "_view_name": "LayoutView",
      "align_content": null,
      "align_items": null,
      "align_self": null,
      "border": null,
      "bottom": null,
      "display": null,
      "flex": null,
      "flex_flow": null,
      "grid_area": null,
      "grid_auto_columns": null,
      "grid_auto_flow": null,
      "grid_auto_rows": null,
      "grid_column": null,
      "grid_gap": null,
      "grid_row": null,
      "grid_template_areas": null,
      "grid_template_columns": null,
      "grid_template_rows": null,
      "height": null,
      "justify_content": null,
      "justify_items": null,
      "left": null,
      "margin": null,
      "max_height": null,
      "max_width": null,
      "min_height": null,
      "min_width": null,
      "object_fit": null,
      "object_position": null,
      "order": null,
      "overflow": null,
      "overflow_x": null,
      "overflow_y": null,
      "padding": null,
      "right": null,
      "top": null,
      "visibility": null,
      "width": null
     }
    },
    "4295a653630b46d3947cbdaaf704c163": {
     "model_module": "@jupyter-widgets/base",
     "model_module_version": "1.2.0",
     "model_name": "LayoutModel",
     "state": {
      "_model_module": "@jupyter-widgets/base",
      "_model_module_version": "1.2.0",
      "_model_name": "LayoutModel",
      "_view_count": null,
      "_view_module": "@jupyter-widgets/base",
      "_view_module_version": "1.2.0",
      "_view_name": "LayoutView",
      "align_content": null,
      "align_items": null,
      "align_self": null,
      "border": null,
      "bottom": null,
      "display": null,
      "flex": null,
      "flex_flow": null,
      "grid_area": null,
      "grid_auto_columns": null,
      "grid_auto_flow": null,
      "grid_auto_rows": null,
      "grid_column": null,
      "grid_gap": null,
      "grid_row": null,
      "grid_template_areas": null,
      "grid_template_columns": null,
      "grid_template_rows": null,
      "height": null,
      "justify_content": null,
      "justify_items": null,
      "left": null,
      "margin": null,
      "max_height": null,
      "max_width": null,
      "min_height": null,
      "min_width": null,
      "object_fit": null,
      "object_position": null,
      "order": null,
      "overflow": null,
      "overflow_x": null,
      "overflow_y": null,
      "padding": null,
      "right": null,
      "top": null,
      "visibility": null,
      "width": null
     }
    },
    "44a2edc8558a4dab93d46cd9757e730f": {
     "model_module": "@jupyter-widgets/controls",
     "model_module_version": "1.5.0",
     "model_name": "HTMLModel",
     "state": {
      "_dom_classes": [],
      "_model_module": "@jupyter-widgets/controls",
      "_model_module_version": "1.5.0",
      "_model_name": "HTMLModel",
      "_view_count": null,
      "_view_module": "@jupyter-widgets/controls",
      "_view_module_version": "1.5.0",
      "_view_name": "HTMLView",
      "description": "",
      "description_tooltip": null,
      "layout": "IPY_MODEL_501fb0f747b243d6bd1595ef4132fcb3",
      "placeholder": "​",
      "style": "IPY_MODEL_a45f4d8a0b99419d8b571bb6ba49d59b",
      "value": "RobustDPatch iteration: 100%"
     }
    },
    "501fb0f747b243d6bd1595ef4132fcb3": {
     "model_module": "@jupyter-widgets/base",
     "model_module_version": "1.2.0",
     "model_name": "LayoutModel",
     "state": {
      "_model_module": "@jupyter-widgets/base",
      "_model_module_version": "1.2.0",
      "_model_name": "LayoutModel",
      "_view_count": null,
      "_view_module": "@jupyter-widgets/base",
      "_view_module_version": "1.2.0",
      "_view_name": "LayoutView",
      "align_content": null,
      "align_items": null,
      "align_self": null,
      "border": null,
      "bottom": null,
      "display": null,
      "flex": null,
      "flex_flow": null,
      "grid_area": null,
      "grid_auto_columns": null,
      "grid_auto_flow": null,
      "grid_auto_rows": null,
      "grid_column": null,
      "grid_gap": null,
      "grid_row": null,
      "grid_template_areas": null,
      "grid_template_columns": null,
      "grid_template_rows": null,
      "height": null,
      "justify_content": null,
      "justify_items": null,
      "left": null,
      "margin": null,
      "max_height": null,
      "max_width": null,
      "min_height": null,
      "min_width": null,
      "object_fit": null,
      "object_position": null,
      "order": null,
      "overflow": null,
      "overflow_x": null,
      "overflow_y": null,
      "padding": null,
      "right": null,
      "top": null,
      "visibility": null,
      "width": null
     }
    },
    "7191a2c1e06840d1929011ff8a85ea7e": {
     "model_module": "@jupyter-widgets/controls",
     "model_module_version": "1.5.0",
     "model_name": "FloatProgressModel",
     "state": {
      "_dom_classes": [],
      "_model_module": "@jupyter-widgets/controls",
      "_model_module_version": "1.5.0",
      "_model_name": "FloatProgressModel",
      "_view_count": null,
      "_view_module": "@jupyter-widgets/controls",
      "_view_module_version": "1.5.0",
      "_view_name": "ProgressView",
      "bar_style": "success",
      "description": "",
      "description_tooltip": null,
      "layout": "IPY_MODEL_0e6c55f20a02400e93dcea40659e9fad",
      "max": 5,
      "min": 0,
      "orientation": "horizontal",
      "style": "IPY_MODEL_def02112b8d64fc6ab48a774fdea1191",
      "value": 5
     }
    },
    "7a6bd5fbe31d49e589b0f0cd2d188ff1": {
     "model_module": "@jupyter-widgets/controls",
     "model_module_version": "1.5.0",
     "model_name": "HBoxModel",
     "state": {
      "_dom_classes": [],
      "_model_module": "@jupyter-widgets/controls",
      "_model_module_version": "1.5.0",
      "_model_name": "HBoxModel",
      "_view_count": null,
      "_view_module": "@jupyter-widgets/controls",
      "_view_module_version": "1.5.0",
      "_view_name": "HBoxView",
      "box_style": "",
      "children": [
       "IPY_MODEL_44a2edc8558a4dab93d46cd9757e730f",
       "IPY_MODEL_7191a2c1e06840d1929011ff8a85ea7e",
       "IPY_MODEL_3d610f3e79fa43748f5d9020c117dd10"
      ],
      "layout": "IPY_MODEL_426cc965cae945cbbe92aac9bcf3fbef"
     }
    },
    "92a36c86123e4fac97cc51ad46619b40": {
     "model_module": "@jupyter-widgets/controls",
     "model_module_version": "1.5.0",
     "model_name": "FloatProgressModel",
     "state": {
      "_dom_classes": [],
      "_model_module": "@jupyter-widgets/controls",
      "_model_module_version": "1.5.0",
      "_model_name": "FloatProgressModel",
      "_view_count": null,
      "_view_module": "@jupyter-widgets/controls",
      "_view_module_version": "1.5.0",
      "_view_name": "ProgressView",
      "bar_style": "success",
      "description": "",
      "description_tooltip": null,
      "layout": "IPY_MODEL_c41d8e3d21fe49aea90335982bc9ecd8",
      "max": 102530333,
      "min": 0,
      "orientation": "horizontal",
      "style": "IPY_MODEL_0439a476de32445fbf2e135e4e270009",
      "value": 102530333
     }
    },
    "9edf488dc0d948f985e4ec6ebbbd89f8": {
     "model_module": "@jupyter-widgets/controls",
     "model_module_version": "1.5.0",
     "model_name": "HTMLModel",
     "state": {
      "_dom_classes": [],
      "_model_module": "@jupyter-widgets/controls",
      "_model_module_version": "1.5.0",
      "_model_name": "HTMLModel",
      "_view_count": null,
      "_view_module": "@jupyter-widgets/controls",
      "_view_module_version": "1.5.0",
      "_view_name": "HTMLView",
      "description": "",
      "description_tooltip": null,
      "layout": "IPY_MODEL_1133787431c34e508adff99187f0ebae",
      "placeholder": "​",
      "style": "IPY_MODEL_fd8694ca3e774f6385f2cd529b6506a3",
      "value": " 97.8M/97.8M [00:00&lt;00:00, 133MB/s]"
     }
    },
    "a45f4d8a0b99419d8b571bb6ba49d59b": {
     "model_module": "@jupyter-widgets/controls",
     "model_module_version": "1.5.0",
     "model_name": "DescriptionStyleModel",
     "state": {
      "_model_module": "@jupyter-widgets/controls",
      "_model_module_version": "1.5.0",
      "_model_name": "DescriptionStyleModel",
      "_view_count": null,
      "_view_module": "@jupyter-widgets/base",
      "_view_module_version": "1.2.0",
      "_view_name": "StyleView",
      "description_width": ""
     }
    },
    "b62a65a467df452eb34b0c96301aa016": {
     "model_module": "@jupyter-widgets/controls",
     "model_module_version": "1.5.0",
     "model_name": "DescriptionStyleModel",
     "state": {
      "_model_module": "@jupyter-widgets/controls",
      "_model_module_version": "1.5.0",
      "_model_name": "DescriptionStyleModel",
      "_view_count": null,
      "_view_module": "@jupyter-widgets/base",
      "_view_module_version": "1.2.0",
      "_view_name": "StyleView",
      "description_width": ""
     }
    },
    "c41d8e3d21fe49aea90335982bc9ecd8": {
     "model_module": "@jupyter-widgets/base",
     "model_module_version": "1.2.0",
     "model_name": "LayoutModel",
     "state": {
      "_model_module": "@jupyter-widgets/base",
      "_model_module_version": "1.2.0",
      "_model_name": "LayoutModel",
      "_view_count": null,
      "_view_module": "@jupyter-widgets/base",
      "_view_module_version": "1.2.0",
      "_view_name": "LayoutView",
      "align_content": null,
      "align_items": null,
      "align_self": null,
      "border": null,
      "bottom": null,
      "display": null,
      "flex": null,
      "flex_flow": null,
      "grid_area": null,
      "grid_auto_columns": null,
      "grid_auto_flow": null,
      "grid_auto_rows": null,
      "grid_column": null,
      "grid_gap": null,
      "grid_row": null,
      "grid_template_areas": null,
      "grid_template_columns": null,
      "grid_template_rows": null,
      "height": null,
      "justify_content": null,
      "justify_items": null,
      "left": null,
      "margin": null,
      "max_height": null,
      "max_width": null,
      "min_height": null,
      "min_width": null,
      "object_fit": null,
      "object_position": null,
      "order": null,
      "overflow": null,
      "overflow_x": null,
      "overflow_y": null,
      "padding": null,
      "right": null,
      "top": null,
      "visibility": null,
      "width": null
     }
    },
    "c681c2e06568461582ee192128be1bff": {
     "model_module": "@jupyter-widgets/controls",
     "model_module_version": "1.5.0",
     "model_name": "HTMLModel",
     "state": {
      "_dom_classes": [],
      "_model_module": "@jupyter-widgets/controls",
      "_model_module_version": "1.5.0",
      "_model_name": "HTMLModel",
      "_view_count": null,
      "_view_module": "@jupyter-widgets/controls",
      "_view_module_version": "1.5.0",
      "_view_name": "HTMLView",
      "description": "",
      "description_tooltip": null,
      "layout": "IPY_MODEL_168ac000add74f2e9ef366a83c4a01ee",
      "placeholder": "​",
      "style": "IPY_MODEL_b62a65a467df452eb34b0c96301aa016",
      "value": "100%"
     }
    },
    "d6fe9b79200f47bab0a9b62c5efd53df": {
     "model_module": "@jupyter-widgets/controls",
     "model_module_version": "1.5.0",
     "model_name": "HBoxModel",
     "state": {
      "_dom_classes": [],
      "_model_module": "@jupyter-widgets/controls",
      "_model_module_version": "1.5.0",
      "_model_name": "HBoxModel",
      "_view_count": null,
      "_view_module": "@jupyter-widgets/controls",
      "_view_module_version": "1.5.0",
      "_view_name": "HBoxView",
      "box_style": "",
      "children": [
       "IPY_MODEL_c681c2e06568461582ee192128be1bff",
       "IPY_MODEL_92a36c86123e4fac97cc51ad46619b40",
       "IPY_MODEL_9edf488dc0d948f985e4ec6ebbbd89f8"
      ],
      "layout": "IPY_MODEL_41220acafbb64bcca99d8eca780790c3"
     }
    },
    "def02112b8d64fc6ab48a774fdea1191": {
     "model_module": "@jupyter-widgets/controls",
     "model_module_version": "1.5.0",
     "model_name": "ProgressStyleModel",
     "state": {
      "_model_module": "@jupyter-widgets/controls",
      "_model_module_version": "1.5.0",
      "_model_name": "ProgressStyleModel",
      "_view_count": null,
      "_view_module": "@jupyter-widgets/base",
      "_view_module_version": "1.2.0",
      "_view_name": "StyleView",
      "bar_color": null,
      "description_width": ""
     }
    },
    "fd8694ca3e774f6385f2cd529b6506a3": {
     "model_module": "@jupyter-widgets/controls",
     "model_module_version": "1.5.0",
     "model_name": "DescriptionStyleModel",
     "state": {
      "_model_module": "@jupyter-widgets/controls",
      "_model_module_version": "1.5.0",
      "_model_name": "DescriptionStyleModel",
      "_view_count": null,
      "_view_module": "@jupyter-widgets/base",
      "_view_module_version": "1.2.0",
      "_view_name": "StyleView",
      "description_width": ""
     }
    }
   }
  }
 },
 "nbformat": 4,
 "nbformat_minor": 5
}
